{
 "cells": [
  {
   "cell_type": "code",
   "execution_count": 1,
   "metadata": {},
   "outputs": [],
   "source": [
    "from sklearn.datasets import load_iris\n",
    "from sklearn.model_selection import train_test_split\n",
    "from sklearn.metrics import accuracy_score\n",
    "from sklearn.svm import SVC\n",
    "import numpy as np\n",
    "from matplotlib import pyplot as plt\n",
    "from sklearn.metrics.pairwise import *\n",
    "import cvxopt as cv\n",
    "from numpy.random import *\n",
    "import matplotlib.cm as cm\n",
    "from matplotlib.colors import Normalize\n",
    "from matplotlib.cm import ScalarMappable, get_cmap"
   ]
  },
  {
   "cell_type": "code",
   "execution_count": 2,
   "metadata": {},
   "outputs": [],
   "source": [
    "# irisデータ準備\n",
    "iris = load_iris()\n",
    "x_1 = iris.data[iris.target==0, 0:2]\n",
    "x_2 = iris.data[iris.target==1, 0:2]\n",
    "x = np.vstack((x_1, x_2))\n",
    "\n",
    "label_1 = [1 for i in range(x_1.shape[0])]\n",
    "label_2 = [-1 for i in range(x_2.shape[0])]\n",
    "label = label_1 + label_2\n",
    "\n",
    "x_train, x_test, y_train, y_test = train_test_split(x, label, test_size=0.2, random_state=2)"
   ]
  },
  {
   "cell_type": "code",
   "execution_count": 3,
   "metadata": {},
   "outputs": [
    {
     "name": "stdout",
     "output_type": "stream",
     "text": [
      "     pcost       dcost       gap    pres   dres\n",
      " 0: -9.3302e+00 -1.2080e+02  4e+02  2e+00  5e-16\n",
      " 1: -5.2020e+00 -5.7579e+01  5e+01  1e-02  7e-16\n",
      " 2: -8.6293e+00 -1.7669e+01  9e+00  2e-03  5e-16\n",
      " 3: -1.0848e+01 -1.3920e+01  3e+00  6e-04  6e-16\n",
      " 4: -1.1847e+01 -1.2310e+01  5e-01  5e-05  6e-16\n",
      " 5: -1.2010e+01 -1.2085e+01  8e-02  8e-06  6e-16\n",
      " 6: -1.2039e+01 -1.2043e+01  3e-03  2e-07  7e-16\n",
      " 7: -1.2041e+01 -1.2041e+01  6e-05  3e-09  8e-16\n",
      " 8: -1.2041e+01 -1.2041e+01  6e-07  3e-11  8e-16\n",
      "Optimal solution found.\n"
     ]
    }
   ],
   "source": [
    "# SVM 学習\n",
    "## パラメータ初期化\n",
    "C = 1.0\n",
    "kernel = rbf_kernel\n",
    "eps = 10**(-7)\n",
    "\n",
    "## 最適化\n",
    "X = x_train\n",
    "y = np.array(y_train)\n",
    "\n",
    "K_gram = kernel(X)\n",
    "N = len(X)\n",
    "Y = np.array( [[y[i] * y[j] for j in range(N)] for i in range(N)] )\n",
    "P = cv.matrix( K_gram * Y )\n",
    "\n",
    "q = cv.matrix( -np.ones(N) )\n",
    "G = cv.matrix( np.r_[np.identity(N), -np.identity(N)] )\n",
    "h = cv.matrix( np.r_[C*np.ones(N).T, np.zeros(N).T] )\n",
    "\n",
    "A = cv.matrix( np.array([y], dtype=\"double\") )\n",
    "b = cv.matrix(0.1)\n",
    "\n",
    "sol = cv.solvers.qp(P=P, q=q, G=G, h=h, A=A, b=b)\n",
    "\n",
    "## サポートベクターの抽出\n",
    "index_list = list(filter(lambda x: sol['x'][x] > eps , range(N)))\n",
    "w = np.array(sol['x'])[index_list].reshape(len(index_list)) * y[index_list]\n",
    "support_vector = X[index_list]\n",
    "\n",
    "## バイアスの計算\n",
    "tmp_list = []\n",
    "for i in index_list:\n",
    "    tmp = 0\n",
    "    for j in index_list:\n",
    "        tmp += (sol['x'][j] * y[j] * K_gram[i][j])\n",
    "    tmp_list.append(y[i]-tmp)\n",
    "b = np.mean(tmp_list)"
   ]
  },
  {
   "cell_type": "code",
   "execution_count": 4,
   "metadata": {},
   "outputs": [
    {
     "name": "stdout",
     "output_type": "stream",
     "text": [
      "acc = 1.0\n"
     ]
    }
   ],
   "source": [
    "# SVM 推論\n",
    "pred_y = np.dot(np.array([w]), kernel(x_test, support_vector).T) + b\n",
    "pred_y = pred_y.reshape(len(x_test))\n",
    "pred_label = np.array([1 if pred > 0 else -1 for pred in pred_y])\n",
    "print('acc = {}'.format(accuracy_score(y_test, pred_label)))"
   ]
  },
  {
   "cell_type": "code",
   "execution_count": 6,
   "metadata": {},
   "outputs": [
    {
     "data": {
      "image/png": "[encoded data removed]",
      "text/plain": [
       "<Figure size 432x288 with 2 Axes>"
      ]
     },
     "metadata": {
      "needs_background": "light"
     },
     "output_type": "display_data"
    }
   ],
   "source": [
    "# 図の作成\n",
    "x_range = [ min(iris.data[:, 0]), max(iris.data[:, 0]) ]\n",
    "y_range = [ min(iris.data[:, 1]), max(iris.data[:, 1]) ]\n",
    "\n",
    "grid_size = 0.1\n",
    "x_list = np.arange(x_range[0], x_range[1], grid_size)\n",
    "y_list = np.arange(y_range[0], y_range[1], grid_size)\n",
    "\n",
    "max_m = np.linalg.norm( np.array([x_range[0]/2, y_range[0]/2]) - np.array([x_range[0], y_range[0]]) )\n",
    "\n",
    "plt.figure()\n",
    "for xi in x_list:\n",
    "    for yi in y_list:\n",
    "        pred_s = ( float( np.dot(np.array([w]), kernel(np.array([[xi, yi]]), support_vector).T) + b ) )\n",
    "        \n",
    "        color = cm.cool(pred_s / max_m)\n",
    "        \n",
    "        testx = [xi, xi+grid_size, xi+grid_size, xi]\n",
    "        testy = [yi, yi, yi+grid_size, yi+grid_size]\n",
    "        plt.fill(testx,testy,color=color,alpha=0.2)\n",
    "\n",
    "plt.scatter(support_vector[:, 0], support_vector[:, 1], marker='o', alpha=0.8, c='white', edgecolors=\"red\", linewidths=\"1\", s=100)\n",
    "plt.scatter(iris.data[iris.target==0, 0], iris.data[iris.target==0, 1], s=20)\n",
    "plt.scatter(iris.data[iris.target==1, 0], iris.data[iris.target==1, 1], s=20)\n",
    "plt.scatter(x_test[:, 0], x_test[:, 1], c=\"white\", s=5, edgecolors=\"white\")\n",
    "\n",
    "norm = Normalize(vmin=-max_m, vmax=max_m)\n",
    "cmap = get_cmap('cool')\n",
    "mappable = ScalarMappable(cmap=cmap, norm=norm)\n",
    "mappable._A = []\n",
    "plt.colorbar(mappable)\n",
    "plt.show()"
   ]
  },
  {
   "cell_type": "code",
   "execution_count": null,
   "metadata": {},
   "outputs": [],
   "source": []
  }
 ],
 "metadata": {
  "kernelspec": {
   "display_name": "Python 3",
   "language": "python",
   "name": "python3"
  },
  "language_info": {
   "codemirror_mode": {
    "name": "ipython",
    "version": 3
   },
   "file_extension": ".py",
   "mimetype": "text/x-python",
   "name": "python",
   "nbconvert_exporter": "python",
   "pygments_lexer": "ipython3",
   "version": "3.6.7"
  }
 },
 "nbformat": 4,
 "nbformat_minor": 2
}
